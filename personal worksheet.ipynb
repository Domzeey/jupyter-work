{
 "cells": [
  {
   "cell_type": "code",
   "execution_count": 8,
   "id": "934693ca",
   "metadata": {},
   "outputs": [
    {
     "name": "stdout",
     "output_type": "stream",
     "text": [
      "Enter a number: 5\n",
      "The square of your number is 25\n"
     ]
    }
   ],
   "source": [
    "num = eval(input('Enter a number: '))\n",
    "print ('The square of your number is', num*num)"
   ]
  },
  {
   "cell_type": "code",
   "execution_count": 5,
   "id": "c93830ae",
   "metadata": {},
   "outputs": [
    {
     "name": "stdout",
     "output_type": "stream",
     "text": [
      "enter a number: 5\n",
      "5---10---15---20---25\n"
     ]
    }
   ],
   "source": [
    "x = eval(input('enter a number: '))\n",
    "print(x,2*x,3*x,4*x,5*x, sep='---')"
   ]
  },
  {
   "cell_type": "code",
   "execution_count": 1,
   "id": "3fb2755d",
   "metadata": {},
   "outputs": [
    {
     "name": "stdout",
     "output_type": "stream",
     "text": [
      "The value of 3+4 is 7 .\n"
     ]
    }
   ],
   "source": [
    "print ('The value of 3+4 is', 3+4, '.')\n"
   ]
  },
  {
   "cell_type": "code",
   "execution_count": 4,
   "id": "d9d114f5",
   "metadata": {},
   "outputs": [
    {
     "name": "stdout",
     "output_type": "stream",
     "text": [
      "On the first line .On the second line\n"
     ]
    }
   ],
   "source": [
    "print('On the first line', '.', end='')\n",
    "print('On the second line')\n"
   ]
  },
  {
   "cell_type": "code",
   "execution_count": 5,
   "id": "fa08293d",
   "metadata": {},
   "outputs": [
    {
     "name": "stdout",
     "output_type": "stream",
     "text": [
      "Enter the weight in KG 20\n",
      "44.0\n"
     ]
    }
   ],
   "source": [
    "kg = input(\"Enter the weight in KG \")\n",
    "pounds = float(kg) * 2.2\n",
    "print(pounds)"
   ]
  },
  {
   "cell_type": "code",
   "execution_count": 7,
   "id": "dedc58f5",
   "metadata": {},
   "outputs": [
    {
     "name": "stdout",
     "output_type": "stream",
     "text": [
      "enter a number: 20\n",
      "enter a number: 20\n",
      "enter a number: 20\n",
      "tatal : 60\n",
      "average : 30.0\n"
     ]
    }
   ],
   "source": [
    "num1 = eval(input('enter a number: '))\n",
    "num2 = eval(input('enter a number: '))\n",
    "num3 = eval(input('enter a number: '))\n",
    "total = num1+num2+num3\n",
    "print('tatal', ':', total)\n",
    "average = total/2\n",
    "print('average', ':', average)"
   ]
  },
  {
   "cell_type": "code",
   "execution_count": 20,
   "id": "8b8123b1",
   "metadata": {},
   "outputs": [
    {
     "name": "stdout",
     "output_type": "stream",
     "text": [
      "enter the price of the meal: 1000\n",
      "enter the percentage of tip to leave: 10\n",
      "bill of meal : 1000\n",
      "total bill : 1100.0\n",
      "tip amount : 100.0\n"
     ]
    }
   ],
   "source": [
    "price_of_meal = int(input('enter the price of the meal: '))\n",
    "tip = int(input('enter the percentage of tip to leave: '))\n",
    "percent_tip = (price_of_meal)*tip/100\n",
    "total_bill = price_of_meal+percent_tip\n",
    "print('bill of meal', ':', price_of_meal)\n",
    "print('total bill', ':', total_bill)\n",
    "print('tip amount', ':', percent_tip)"
   ]
  },
  {
   "cell_type": "code",
   "execution_count": 21,
   "id": "7dbdc2fc",
   "metadata": {},
   "outputs": [
    {
     "name": "stdout",
     "output_type": "stream",
     "text": [
      "enter a number: 5\n",
      "the square of your number is 25\n",
      "enter a number: 10\n",
      "the square of your number is 100\n",
      "enter a number: 15\n",
      "the square of your number is 225\n",
      "enter a number: 20\n",
      "the square of your number is 400\n",
      "the loop is now done\n"
     ]
    }
   ],
   "source": [
    "for i in range(4):\n",
    "    num = eval(input('enter a number: '))\n",
    "    print('the square of your number is', num*num)\n",
    "print('the loop is now done')"
   ]
  },
  {
   "cell_type": "code",
   "execution_count": 25,
   "id": "f7e9c909",
   "metadata": {},
   "outputs": [
    {
     "name": "stdout",
     "output_type": "stream",
     "text": [
      "1 -- Hello\n",
      "2 -- Hello\n",
      "3 -- Hello\n"
     ]
    }
   ],
   "source": [
    "for i in range(3):\n",
    "    print(i+1, '-- Hello')\n"
   ]
  },
  {
   "cell_type": "code",
   "execution_count": 38,
   "id": "e1badc4c",
   "metadata": {},
   "outputs": [
    {
     "name": "stdout",
     "output_type": "stream",
     "text": [
      "9\n",
      "8\n",
      "7\n",
      "6\n",
      "5\n",
      "4\n",
      "3\n"
     ]
    }
   ],
   "source": [
    "for i in range(9,2,-1):\n",
    "    print(i)"
   ]
  },
  {
   "cell_type": "code",
   "execution_count": 39,
   "id": "566fbc0e",
   "metadata": {},
   "outputs": [
    {
     "name": "stdout",
     "output_type": "stream",
     "text": [
      "5 4 3 2 1 Blast off!!\n"
     ]
    }
   ],
   "source": [
    "for i in range(5,0,-1):\n",
    "    print(i, end=' ')\n",
    "print('Blast off!!')"
   ]
  },
  {
   "cell_type": "code",
   "execution_count": 40,
   "id": "1db966f1",
   "metadata": {},
   "outputs": [
    {
     "name": "stdout",
     "output_type": "stream",
     "text": [
      "******\n",
      "******\n",
      "******\n",
      "******\n"
     ]
    }
   ],
   "source": [
    "for i in range(4):\n",
    "    print('*'*6)\n"
   ]
  },
  {
   "cell_type": "code",
   "execution_count": 41,
   "id": "ffa1d3af",
   "metadata": {},
   "outputs": [
    {
     "name": "stdout",
     "output_type": "stream",
     "text": [
      "*\n",
      "**\n",
      "***\n",
      "****\n"
     ]
    }
   ],
   "source": [
    "for i in range(4):\n",
    "    print('*'*(i+1))"
   ]
  },
  {
   "cell_type": "code",
   "execution_count": 43,
   "id": "c870f032",
   "metadata": {},
   "outputs": [
    {
     "name": "stdout",
     "output_type": "stream",
     "text": [
      "dominiondominiondominiondominiondominion"
     ]
    }
   ],
   "source": [
    "for i in range(5):\n",
    "    print('dominion', end='')"
   ]
  },
  {
   "cell_type": "code",
   "execution_count": 44,
   "id": "7df0d026",
   "metadata": {},
   "outputs": [
    {
     "name": "stdout",
     "output_type": "stream",
     "text": [
      "1 dominion\n",
      "2 dominion\n",
      "3 dominion\n",
      "4 dominion\n",
      "5 dominion\n",
      "6 dominion\n",
      "7 dominion\n",
      "8 dominion\n",
      "9 dominion\n",
      "10 dominion\n",
      "11 dominion\n",
      "12 dominion\n",
      "13 dominion\n",
      "14 dominion\n",
      "15 dominion\n",
      "16 dominion\n",
      "17 dominion\n",
      "18 dominion\n",
      "19 dominion\n",
      "20 dominion\n"
     ]
    }
   ],
   "source": [
    "for i in range(20):\n",
    "    print(i+1, 'dominion')"
   ]
  },
  {
   "cell_type": "code",
   "execution_count": 55,
   "id": "3a939e2a",
   "metadata": {},
   "outputs": [
    {
     "name": "stdout",
     "output_type": "stream",
     "text": [
      "1 === 1\n",
      "2 === 4\n",
      "3 === 9\n",
      "4 === 16\n",
      "5 === 25\n",
      "6 === 36\n",
      "7 === 49\n",
      "8 === 64\n",
      "9 === 81\n",
      "10 === 100\n",
      "11 === 121\n",
      "12 === 144\n",
      "13 === 169\n",
      "14 === 196\n",
      "15 === 225\n",
      "16 === 256\n",
      "17 === 289\n",
      "18 === 324\n",
      "19 === 361\n",
      "20 === 400\n"
     ]
    }
   ],
   "source": [
    "for i in range(1,21):\n",
    "    print(i , '===', i*i)"
   ]
  },
  {
   "cell_type": "code",
   "execution_count": 68,
   "id": "7097977f",
   "metadata": {},
   "outputs": [
    {
     "name": "stdout",
     "output_type": "stream",
     "text": [
      "8\n",
      "11\n",
      "14\n",
      "17\n",
      "20\n",
      "23\n",
      "26\n",
      "29\n",
      "32\n",
      "35\n",
      "38\n",
      "41\n",
      "44\n",
      "47\n",
      "50\n",
      "53\n",
      "56\n",
      "59\n",
      "62\n",
      "65\n",
      "68\n",
      "71\n",
      "74\n",
      "77\n",
      "80\n",
      "83\n",
      "86\n",
      "89\n"
     ]
    }
   ],
   "source": [
    "for i in range(8,90,3):\n",
    "    print(i)"
   ]
  },
  {
   "cell_type": "code",
   "execution_count": 72,
   "id": "6aaf47c4",
   "metadata": {},
   "outputs": [
    {
     "name": "stdout",
     "output_type": "stream",
     "text": [
      "100\n",
      "98\n",
      "96\n",
      "94\n",
      "92\n",
      "90\n",
      "88\n",
      "86\n",
      "84\n",
      "82\n",
      "80\n",
      "78\n",
      "76\n",
      "74\n",
      "72\n",
      "70\n",
      "68\n",
      "66\n",
      "64\n",
      "62\n",
      "60\n",
      "58\n",
      "56\n",
      "54\n",
      "52\n",
      "50\n",
      "48\n",
      "46\n",
      "44\n",
      "42\n",
      "40\n",
      "38\n",
      "36\n",
      "34\n",
      "32\n",
      "30\n",
      "28\n",
      "26\n",
      "24\n",
      "22\n",
      "20\n",
      "18\n",
      "16\n",
      "14\n",
      "12\n",
      "10\n",
      "8\n",
      "6\n",
      "4\n",
      "2\n"
     ]
    }
   ],
   "source": [
    "for i in range(100,1,-2):\n",
    "    print(i)"
   ]
  },
  {
   "cell_type": "code",
   "execution_count": 78,
   "id": "da1f4fd0",
   "metadata": {},
   "outputs": [
    {
     "name": "stdout",
     "output_type": "stream",
     "text": [
      "enter a name: dominion\n",
      "enter the number os times to print the name: 5\n",
      "dominion\n",
      "dominion\n",
      "dominion\n",
      "dominion\n",
      "dominion\n"
     ]
    }
   ],
   "source": [
    "name = input('enter a name: ')\n",
    "no = int(input('enter the number os times to print the name: '))\n",
    "for i in range(no):\n",
    "    print(name)"
   ]
  },
  {
   "cell_type": "code",
   "execution_count": 80,
   "id": "f78c7213",
   "metadata": {},
   "outputs": [
    {
     "name": "stdout",
     "output_type": "stream",
     "text": [
      "A random number between 1 and 10:  18\n"
     ]
    }
   ],
   "source": [
    "from random import randint\n",
    "x = randint(15,20)\n",
    "print('A random number between 1 and 10: ', x)"
   ]
  },
  {
   "cell_type": "code",
   "execution_count": 95,
   "id": "d6b5728e",
   "metadata": {},
   "outputs": [
    {
     "name": "stdout",
     "output_type": "stream",
     "text": [
      "6\n",
      "6\n",
      "6\n",
      "6\n",
      "6\n",
      "6\n",
      "6\n",
      "6\n",
      "6\n",
      "6\n"
     ]
    }
   ],
   "source": [
    "from random import randint\n",
    "x = randint(3,6)\n",
    "for i in range(10):\n",
    "    print(x)"
   ]
  },
  {
   "cell_type": "code",
   "execution_count": 101,
   "id": "caaef326",
   "metadata": {},
   "outputs": [
    {
     "name": "stdout",
     "output_type": "stream",
     "text": [
      "enter the guess number: 4\n",
      "Sorry. The number is  3\n"
     ]
    }
   ],
   "source": [
    "from random import randint\n",
    "\n",
    "num = randint(1,10)\n",
    "guess = eval(input('enter the guess number: '))\n",
    "\n",
    "if guess == num:\n",
    "    print('guessed number correct')\n",
    "    \n",
    "else:\n",
    "    print('Sorry. The number is ', num)"
   ]
  },
  {
   "cell_type": "code",
   "execution_count": 103,
   "id": "89ef2729",
   "metadata": {},
   "outputs": [
    {
     "name": "stdout",
     "output_type": "stream",
     "text": [
      "enter your garde: 44\n",
      "F\n"
     ]
    }
   ],
   "source": [
    "grade = eval(input('enter your garde: '))\n",
    "\n",
    "if grade>=90:\n",
    "    print('A')\n",
    "if grade>=80 and grade<90:\n",
    "    print('B')\n",
    "if grade>=70 and grade<80:\n",
    "    print('C')\n",
    "if grade>=60 and grade<70:\n",
    "    print('D')\n",
    "if grade>=50 and grade<60:\n",
    "    print('E')\n",
    "if grade<50:\n",
    "    print('F')"
   ]
  },
  {
   "cell_type": "code",
   "execution_count": 105,
   "id": "395d9d15",
   "metadata": {},
   "outputs": [
    {
     "name": "stdout",
     "output_type": "stream",
     "text": [
      "Enter your score: 69\n",
      "D\n"
     ]
    }
   ],
   "source": [
    "grade = eval(input('Enter your score: '))\n",
    "\n",
    "if grade>=90:\n",
    "    print('A')\n",
    "elif grade>=80:\n",
    "    print('B')\n",
    "elif grade>=70:\n",
    "    print('C')\n",
    "elif grade>=60:\n",
    "    print('D')\n",
    "else:\n",
    "    print('F')\n"
   ]
  },
  {
   "cell_type": "code",
   "execution_count": 110,
   "id": "422b8431",
   "metadata": {},
   "outputs": [
    {
     "name": "stdout",
     "output_type": "stream",
     "text": [
      "Enter length in cm: 100\n",
      "100 centimetres is equal to 39.37007874015748 inches\n"
     ]
    }
   ],
   "source": [
    "# Write a program that asks the user to enter a length in centimeters. If the user enters a negative\n",
    "# length, the program should tell the user that the entry is invalid. Otherwise, the program\n",
    "# should convert the length to inches and print out the result. There are 2.54 centimeters in an\n",
    "# inch\n",
    "\n",
    "\n",
    "len = int(input(\"Enter length in cm: \"))\n",
    "if len < 0:\n",
    "    print(\"Invalid input\")\n",
    "else:\n",
    "    inch = len / 2.54\n",
    "    print(len, \"centimetres is equal to\", inch, \"inches\")"
   ]
  },
  {
   "cell_type": "code",
   "execution_count": 113,
   "id": "343dbc7a",
   "metadata": {},
   "outputs": [
    {
     "name": "stdout",
     "output_type": "stream",
     "text": [
      "enter the numbers of credit you have taken: 0\n",
      "your are a freshman\n"
     ]
    }
   ],
   "source": [
    "# Write a program that asks the user how many credits they have taken. If they have taken 23\n",
    "# or less, print that the student is a freshman. If they have taken between 24 and 53, print that\n",
    "# they are a sophomore. The range for juniors is 54 to 83, and for seniors it is 84 and over\n",
    "\n",
    "no_credit = int(input('enter the numbers of credit you have taken: '))\n",
    "\n",
    "if no_credit<=20:\n",
    "    print('your are a freshman')\n",
    "    \n",
    "elif no_credit>=24 and no_credit<53:\n",
    "    print('you are a sophomore')\n",
    "    \n",
    "elif no_credit>=54 and no_credit<83:\n",
    "    print('you are a junior')\n",
    "    \n",
    "elif no_credit>=84:\n",
    "    print('you are a senior')\n",
    "    \n",
    "else:\n",
    "    break\n",
    "    \n",
    "\n",
    "\n"
   ]
  },
  {
   "cell_type": "code",
   "execution_count": 117,
   "id": "4fe73dc8",
   "metadata": {},
   "outputs": [
    {
     "name": "stdout",
     "output_type": "stream",
     "text": [
      "guess the random number: 2\n",
      "correctly rediction 2\n"
     ]
    }
   ],
   "source": [
    "# Generate a random number between 1 and 10. Ask the user to guess the number and print a\n",
    "# message based on whether they get it right or not.\n",
    "\n",
    "\n",
    "from random import randint\n",
    "ran = randint(1,3)\n",
    "\n",
    "num = eval(input('guess the random number: '))\n",
    "if num==ran:\n",
    "    print('correctly rediction', ran)\n",
    "else:\n",
    "    print('incorrect prediction')\n",
    "\n",
    "    \n",
    "\n"
   ]
  },
  {
   "cell_type": "code",
   "execution_count": 127,
   "id": "cb4a02f2",
   "metadata": {},
   "outputs": [
    {
     "name": "stdout",
     "output_type": "stream",
     "text": [
      "enter the numbers of items to buy: 150\n",
      "1500 $\n"
     ]
    }
   ],
   "source": [
    "# A store charges $12 per item if you buy less than 10 items. If you buy between 10 and 99\n",
    "# items, the cost is $10 per item. If you buy 100 or more items, the cost is $7 per item. Write a\n",
    "# program that asks the user how many items they are buying and prints the total cost.\n",
    "\n",
    "no_items = eval(input('enter the numbers of items to buy: '))\n",
    "if no_items<10:\n",
    "    total_cost = no_items*12\n",
    "    print(total_cost,'$')\n",
    "    \n",
    "elif no_items>=10 and no_credit<99:\n",
    "    total_cost = no_items*10\n",
    "    print(total_cost,'$')\n",
    "    \n",
    "elif no_items>=100:\n",
    "    total_cost = no_items*7\n",
    "    print(total_cost,'$')\n",
    "    \n",
    "\n",
    "\n",
    "\n"
   ]
  },
  {
   "cell_type": "code",
   "execution_count": 130,
   "id": "e6ba558e",
   "metadata": {},
   "outputs": [
    {
     "name": "stdout",
     "output_type": "stream",
     "text": [
      "Enter first number: 10.2\n",
      "Enter second number: 10\n",
      "Not Close\n"
     ]
    }
   ],
   "source": [
    "# Write a program that asks the user for two numbers and prints Close if the numbers are\n",
    "# within .001 of each other and Not close otherwise\n",
    "\n",
    "\n",
    "\n",
    "num1 = eval(input(\"Enter first number: \"))\n",
    "num2= eval(input(\"Enter second number: \"))\n",
    "\n",
    "num3 = 0\n",
    "if num1 > num2 :\n",
    "    num3 = num1 - num2\n",
    "else : \n",
    "    num3 = num2 - num1\n",
    "\n",
    "if num3 <= 0.001 :\n",
    "    print(\"Close\")\n",
    "else :\n",
    "    print(\"Not Close\")"
   ]
  },
  {
   "cell_type": "code",
   "execution_count": 134,
   "id": "29c16e3f",
   "metadata": {},
   "outputs": [
    {
     "name": "stdout",
     "output_type": "stream",
     "text": [
      "enter the year: 400\n",
      "400 is a Leap Year\n"
     ]
    }
   ],
   "source": [
    "# A year is a leap year if it is divisible by 4, except that years divisible by 100 are not leap years\n",
    "# unless they are also divisible by 400. Write a program that asks the user for a year and prints\n",
    "# out whether it is a leap year or not.\n",
    "\n",
    "year = int(input('enter the year: '))\n",
    "if year % 400 == 0 :\n",
    "    print(year, \"is a Leap Year\")\n",
    "elif year % 100 == 0 :\n",
    "    print(year, \"is not a Leap Year\")\n",
    "elif year % 4 == 0 :\n",
    "    print(year, \"is a Leap Year\")\n",
    "else :\n",
    "    print(year, \"is not a Leap Year\")\n",
    "\n",
    "\n"
   ]
  },
  {
   "cell_type": "code",
   "execution_count": null,
   "id": "531decc1",
   "metadata": {},
   "outputs": [],
   "source": [
    "# Write a program that asks the user to enter a number and prints out all the divisors of that\n",
    "# number.\n",
    "\n",
    "num = int(input('enter a number: '))\n",
    "\n"
   ]
  },
  {
   "cell_type": "code",
   "execution_count": 135,
   "id": "1f8710a9",
   "metadata": {},
   "outputs": [
    {
     "name": "stdout",
     "output_type": "stream",
     "text": [
      "enter hour: 7\n",
      "press 1 for {am} or 2 for {pm}? (1/2): 2\n",
      "how many hours into the future: 3\n",
      "7 pm\n"
     ]
    }
   ],
   "source": [
    "#  Write a program that asks the user for an hour between 1 and 12, asks them to enter am or pm,\n",
    "# and asks them how many hours into the future they want to go. Print out what the hour will\n",
    "# be that many hours into the future, printing am or pm as appropriate. An example is shown\n",
    "# below.\n",
    "\n",
    "\n",
    "\n",
    "hour = int(input('enter hour: '))\n",
    "ans = input('press 1 for {am} or 2 for {pm}? (1/2): ')\n",
    "hours_future = int(input('how many hours into the future: '))\n",
    "hours = hour+hours_future\n",
    "if ans == '1':\n",
    "    print(hour, 'am')\n",
    "elif ans == '2':\n",
    "    print(hour, 'pm')\n",
    "else:\n",
    "    print('Invalid input')\n",
    "\n"
   ]
  },
  {
   "cell_type": "code",
   "execution_count": 136,
   "id": "e6cccb28",
   "metadata": {},
   "outputs": [
    {
     "name": "stdout",
     "output_type": "stream",
     "text": [
      "3 * 4\n",
      "The answer is: 9\n",
      "false\n",
      "The correct answer is: 12\n"
     ]
    }
   ],
   "source": [
    "# Write a multiplication game program for kids. The program should give the player ten\n",
    "#randomly generated multiplication questions to do. After each, the program should tell them\n",
    "# whether they got it right or wrong and what the correct answer is.\n",
    "\n",
    "import random\n",
    "Question1 = '3 * 5'\n",
    "Question2 = '4 * 8'\n",
    "Question3 = '3 * 4'\n",
    "Question4 = '2 * 3'\n",
    "Question5 = '5 * 5'\n",
    "Question6 = '7 * 7'\n",
    "Question7 = '8 * 5'\n",
    "Question8 = '9 * 8'\n",
    "Question9 = '2 * 7'\n",
    "Question10 = '10 * 8'\n",
    "Answer1 = 15\n",
    "Answer2 = 32\n",
    "Answer3 = 12\n",
    "Answer4 = 6\n",
    "Answer5 = 25\n",
    "Answer6 = 49\n",
    "Answer7 = 40\n",
    "Answer8 = 72\n",
    "Answer9 = 14\n",
    "Answer10 = 80\n",
    "questions = [Question1,Question2,Question3,Question4,Question5,Question6,Question7,Question8,Question9,Question10]\n",
    "random.shuffle(questions)\n",
    "if questions[0] == Question1:\n",
    "    print(Question1)\n",
    "    user_input = eval(input('The answer is: '))\n",
    "    if user_input == Answer1:\n",
    "        print('True')\n",
    "    else:\n",
    "        print('false')\n",
    "        print('The correct answer is:',Answer1)\n",
    "if questions[0] == Question2:\n",
    "    print(Question2)\n",
    "    user_input = eval(input('The answer is: '))\n",
    "    if user_input == Answer2:\n",
    "        print('True')\n",
    "    else:\n",
    "        print('false')\n",
    "        print('The correct answer is:',Answer2)\n",
    "if questions[0] == Question3:\n",
    "    print(Question3)\n",
    "    user_input = eval(input('The answer is: '))\n",
    "    if user_input == Answer3:\n",
    "         print('True')\n",
    "    else:\n",
    "        print('false')\n",
    "        print('The correct answer is:',Answer3)\n",
    "\n",
    "\n"
   ]
  },
  {
   "cell_type": "code",
   "execution_count": 1,
   "id": "a75063c6",
   "metadata": {},
   "outputs": [
    {
     "name": "stdout",
     "output_type": "stream",
     "text": [
      "Enter a number: 5\n",
      "Enter a number: 15\n",
      "Enter a number: 20\n",
      "Enter a number: 9\n",
      "Enter a number: 30\n",
      "Enter a number: 18\n",
      "Enter a number: 2\n",
      "Enter a number: 25\n",
      "Enter a number: 8\n",
      "Enter a number: 11\n",
      "There are 6 numbers greater than 10.\n"
     ]
    }
   ],
   "source": [
    "count = 0\n",
    "for i in range(10):\n",
    "    num = eval(input('Enter a number: '))\n",
    "    if num>10:\n",
    "        count=count+1\n",
    "print('There are', count, 'numbers greater than 10.')"
   ]
  },
  {
   "cell_type": "code",
   "execution_count": 2,
   "id": "fd0c3cb3",
   "metadata": {},
   "outputs": [
    {
     "name": "stdout",
     "output_type": "stream",
     "text": [
      "Enter a number: 30\n",
      "Enter a number: 8\n",
      "Enter a number: 5\n",
      "Enter a number: 15\n",
      "Enter a number: 20\n",
      "Enter a number: 25\n",
      "Enter a number: 18\n",
      "Enter a number: 7\n",
      "Enter a number: 10\n",
      "Enter a number: 9\n",
      "There are 5 numbers greater than 10.\n",
      "There are 0 zeroes.\n"
     ]
    }
   ],
   "source": [
    "count1 = 0\n",
    "count2 = 0\n",
    "for i in range(10):\n",
    "    num = eval(input('Enter a number: '))\n",
    "    if num>10:\n",
    "        count1=count1+1\n",
    "    if num==0:\n",
    "        count2=count2+1\n",
    "print('There are', count1, 'numbers greater than 10.')\n",
    "print('There are', count2, 'zeroes.')\n"
   ]
  },
  {
   "cell_type": "code",
   "execution_count": 3,
   "id": "d4529708",
   "metadata": {},
   "outputs": [
    {
     "name": "stdout",
     "output_type": "stream",
     "text": [
      "20\n"
     ]
    }
   ],
   "source": [
    "count = 0\n",
    "for i in range(1,101):\n",
    "    if (i**2)%10==4:\n",
    "        count = count + 1\n",
    "print(count)"
   ]
  },
  {
   "cell_type": "code",
   "execution_count": 1,
   "id": "16486e1e",
   "metadata": {},
   "outputs": [
    {
     "name": "stdout",
     "output_type": "stream",
     "text": [
      "0.1017249004865104\n"
     ]
    }
   ],
   "source": [
    "a = 512-282\n",
    "b = (47*48)+5\n",
    "c = a/b\n",
    "print(c)"
   ]
  },
  {
   "cell_type": "code",
   "execution_count": null,
   "id": "327c2ab9",
   "metadata": {},
   "outputs": [],
   "source": []
  }
 ],
 "metadata": {
  "kernelspec": {
   "display_name": "Python 3",
   "language": "python",
   "name": "python3"
  },
  "language_info": {
   "codemirror_mode": {
    "name": "ipython",
    "version": 3
   },
   "file_extension": ".py",
   "mimetype": "text/x-python",
   "name": "python",
   "nbconvert_exporter": "python",
   "pygments_lexer": "ipython3",
   "version": "3.8.8"
  }
 },
 "nbformat": 4,
 "nbformat_minor": 5
}
